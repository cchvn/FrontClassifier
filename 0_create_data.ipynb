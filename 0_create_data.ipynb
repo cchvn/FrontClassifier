{
 "cells": [
  {
   "cell_type": "code",
   "execution_count": 2,
   "metadata": {},
   "outputs": [],
   "source": [
    "import os\n",
    "import shutil"
   ]
  },
  {
   "cell_type": "markdown",
   "metadata": {},
   "source": [
    "## Create smaller dataset for Font Classifier\n",
    "\n",
    "This file enalble to create a sub folder of dataset_word_grey with less images in order to reduce computation time and be able to run the training of the font classifier on my computer\n"
   ]
  },
  {
   "cell_type": "code",
   "execution_count": 3,
   "metadata": {},
   "outputs": [
    {
     "name": "stdout",
     "output_type": "stream",
     "text": [
      "ITCGaramondStd-Bd\n",
      "True\n",
      "TimesNRMTPro-Bold\n",
      "True\n",
      "Oswald-Bold\n",
      "True\n",
      "ITCGaramondStd-Bk\n",
      "True\n",
      "Aller_Bd\n",
      "True\n",
      "Antonio-Bold\n",
      "True\n",
      "Roboto-Regular\n",
      "True\n",
      ".DS_Store\n",
      "False\n",
      "Amatic-Bold\n",
      "True\n",
      "OpenSans-Regular\n",
      "True\n",
      "OpenSans-Bold\n",
      "True\n",
      "Roboto-Bold\n",
      "True\n",
      "TimesNRMTPro\n",
      "True\n",
      "ChronicleDeck-Bold\n",
      "True\n",
      "AllerDisplay\n",
      "True\n",
      "Oswald-Regular\n",
      "True\n",
      "Antonio-Light\n",
      "True\n",
      "ChronicleDeck-Roman\n",
      "True\n",
      "BaskervillePro-Regular\n",
      "True\n",
      "Antonio-Regular\n",
      "True\n",
      "Sentinel-Book\n",
      "True\n",
      "Sentinel-Bold\n",
      "True\n",
      "BaskervillePro-Bold\n",
      "True\n",
      "SEASRN__\n",
      "True\n",
      "Images copied successfully!\n"
     ]
    }
   ],
   "source": [
    "# Define the paths\n",
    "source_dir = 'dataset_word_gray'  # Path to your source folder\n",
    "destination_dir = 'dataset_word_gray_sub'  # Path to the new folder where you want to copy images\n",
    "\n",
    "# Create the destination directory if it doesn't exist\n",
    "if not os.path.exists(destination_dir):\n",
    "    os.makedirs(destination_dir)\n",
    "\n",
    "# Loop through each subfolder in the source directory\n",
    "for subfolder_name in os.listdir(source_dir):\n",
    "    print(subfolder_name)\n",
    "    subfolder_path = os.path.join(source_dir, subfolder_name)\n",
    "    \n",
    "    print(os.path.isdir(subfolder_path))\n",
    "\n",
    "    if os.path.isdir(subfolder_path):  # Check if it's a subfolder\n",
    "        # Create the corresponding subfolder in the destination directory\n",
    "        dest_subfolder_path = os.path.join(destination_dir, subfolder_name)\n",
    "        if not os.path.exists(dest_subfolder_path):\n",
    "            os.makedirs(dest_subfolder_path)\n",
    "        \n",
    "        # Get all images in the subfolder and sort them (in case you want a specific order)\n",
    "        image_files = sorted(os.listdir(subfolder_path))\n",
    "        \n",
    "        # Copy only the first 1500 images\n",
    "        for i, image_file in enumerate(image_files[:1500]):\n",
    "            src_image_path = os.path.join(subfolder_path, image_file)\n",
    "            dest_image_path = os.path.join(dest_subfolder_path, image_file)\n",
    "            shutil.copy(src_image_path, dest_image_path)  # Copy the image\n",
    "\n",
    "print(\"Images copied successfully!\")"
   ]
  },
  {
   "cell_type": "markdown",
   "metadata": {},
   "source": []
  }
 ],
 "metadata": {
  "kernelspec": {
   "display_name": "Python 3",
   "language": "python",
   "name": "python3"
  },
  "language_info": {
   "codemirror_mode": {
    "name": "ipython",
    "version": 3
   },
   "file_extension": ".py",
   "mimetype": "text/x-python",
   "name": "python",
   "nbconvert_exporter": "python",
   "pygments_lexer": "ipython3",
   "version": "3.9.7"
  }
 },
 "nbformat": 4,
 "nbformat_minor": 2
}
